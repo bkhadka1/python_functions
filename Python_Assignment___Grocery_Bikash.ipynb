{
  "cells": [
    {
      "cell_type": "code",
      "execution_count": 17,
      "id": "f514006e",
      "metadata": {
        "id": "f514006e"
      },
      "outputs": [],
      "source": [
        "# Price Data\n",
        "\n",
        "item_dict = {'almonds': 6,\n",
        " 'antioxidant juice': 9,\n",
        " 'avocado': 1,\n",
        " 'black tea': 4,\n",
        " 'burgers': 4,\n",
        " 'champagne': 3,\n",
        " 'chicken': 4,\n",
        " 'chocolate': 7,\n",
        " 'chutney': 7,\n",
        " 'cookies': 7,\n",
        " 'cooking oil': 7,\n",
        " 'cottage cheese': 9,\n",
        " 'eggs': 9,\n",
        " 'energy bar': 9,\n",
        " 'energy drink': 3,\n",
        " 'extra dark chocolate': 8,\n",
        " 'french fries': 7,\n",
        " 'fresh tuna': 9,\n",
        " 'frozen smoothie': 7,\n",
        " 'frozen vegetables': 2,\n",
        " 'green grapes': 8,\n",
        " 'green tea': 8,\n",
        " 'honey': 9,\n",
        " 'light cream': 5,\n",
        " 'low fat yogurt': 4,\n",
        " 'meatballs': 9,\n",
        " 'milk': 5,\n",
        " 'mineral water': 2,\n",
        " 'oil': 9,\n",
        " 'olive oil': 8,\n",
        " 'pet food': 3,\n",
        " 'protein bar': 1,\n",
        " 'salad': 7,\n",
        " 'salmon': 3,\n",
        " 'shallot': 6,\n",
        " 'shrimp': 2,\n",
        " 'soup': 2,\n",
        " 'spaghetti': 6,\n",
        " 'spinach': 7,\n",
        " 'tomato juice': 8,\n",
        " 'tomatoes': 5,\n",
        " 'turkey': 8,\n",
        " 'vegetables mix': 3,\n",
        " 'whole wheat flour': 5,\n",
        " 'whole wheat pasta': 5,\n",
        " 'whole wheat rice': 4,\n",
        " 'yams': 7}\n"
      ]
    },
    {
      "cell_type": "code",
      "execution_count": 18,
      "id": "e41d69a3",
      "metadata": {
        "id": "e41d69a3"
      },
      "outputs": [],
      "source": [
        "# transaction data\n",
        "\n",
        "transaction_data = \\\n",
        "[['shrimp', 'almonds', 'avocado', 'vegetables mix', 'green grapes', 'whole wheat flour', 'yams', 'cottage cheese', 'energy drink', 'tomato juice', 'low fat yogurt', 'green tea', 'honey', 'salad', 'mineral water', 'salmon', 'antioxidant juice', 'frozen smoothie', 'spinach', 'olive oil'],\n",
        "['burgers', 'meatballs', 'eggs'],\n",
        "['chutney'],\n",
        "['turkey', 'avocado'],\n",
        "['mineral water', 'milk', 'energy bar', 'whole wheat rice', 'green tea'],\n",
        "['low fat yogurt'],\n",
        "['whole wheat pasta', 'french fries'],\n",
        "['soup', 'light cream', 'shallot'],\n",
        "['frozen vegetables', 'spaghetti', 'green tea'],\n",
        "['french fries'],\n",
        "['eggs', 'pet food'],\n",
        "['cookies'],\n",
        "['turkey', 'burgers', 'mineral water', 'eggs', 'cooking oil'],\n",
        "['spaghetti', 'champagne', 'cookies'],\n",
        "['mineral water', 'salmon'],\n",
        "['mineral water'],\n",
        "['shrimp', 'chocolate', 'chicken', 'honey', 'oil', 'cooking oil', 'low fat yogurt'],\n",
        "['turkey', 'eggs'],\n",
        "['turkey', 'fresh tuna', 'tomatoes', 'spaghetti', 'mineral water', 'black tea', 'salmon', 'eggs', 'chicken', 'extra dark chocolate'],\n",
        "['meatballs', 'milk', 'honey', 'french fries', 'protein bar']]"
      ]
    },
    {
      "cell_type": "markdown",
      "id": "fa48333a",
      "metadata": {
        "id": "fa48333a"
      },
      "source": [
        "Q1. Based on customer demand, items keep changing in the store. Your first task is to create a function that lets the admin add or remove items from the store directory(Cost dictionary)."
      ]
    },
    {
      "cell_type": "markdown",
      "id": "32fb4625",
      "metadata": {
        "id": "32fb4625"
      },
      "source": [
        "● Find how many unique items are present in the data? (Hint: It will correspond to the number of key pairs in the Cost dictionary) I"
      ]
    },
    {
      "cell_type": "code",
      "execution_count": 19,
      "id": "ed8c0cfb",
      "metadata": {
        "colab": {
          "base_uri": "https://localhost:8080/"
        },
        "id": "ed8c0cfb",
        "outputId": "c27b0198-40af-41d3-9589-7f72dca7b322"
      },
      "outputs": [
        {
          "output_type": "stream",
          "name": "stdout",
          "text": [
            "Number of unique items in the store: 47\n"
          ]
        }
      ],
      "source": [
        "print(\"Number of unique items in the store:\", len(item_dict))"
      ]
    },
    {
      "cell_type": "markdown",
      "id": "b4e02f3a",
      "metadata": {
        "id": "b4e02f3a"
      },
      "source": [
        "● Find the total number of transactions?"
      ]
    },
    {
      "cell_type": "code",
      "execution_count": 20,
      "id": "d1993f3b",
      "metadata": {
        "colab": {
          "base_uri": "https://localhost:8080/"
        },
        "id": "d1993f3b",
        "outputId": "6506343c-91f3-4750-ce3e-f60809825334"
      },
      "outputs": [
        {
          "output_type": "stream",
          "name": "stdout",
          "text": [
            "Total number of transactions: 20\n"
          ]
        }
      ],
      "source": [
        "print(\"Total number of transactions:\", len(transaction_data))"
      ]
    },
    {
      "cell_type": "markdown",
      "id": "83b474f9",
      "metadata": {
        "id": "83b474f9"
      },
      "source": [
        "●\tAdd items, try adding the item “banana” in stores. The cost of this item is $5. Add the item “banana” to the Cost dictionary.\n",
        "\n",
        "●\tUse a function named add_item( ) to automatically add an item to the Cost dictionary given its name and price.\n"
      ]
    },
    {
      "cell_type": "code",
      "execution_count": 23,
      "id": "d7f0f26b",
      "metadata": {
        "colab": {
          "base_uri": "https://localhost:8080/"
        },
        "id": "d7f0f26b",
        "outputId": "ad7b8b5a-841a-49b5-db2a-b569f0bc95cf"
      },
      "outputs": [
        {
          "output_type": "stream",
          "name": "stdout",
          "text": [
            "banana has been added to the store with a cost of $5\n",
            "{'almonds': 6, 'antioxidant juice': 9, 'avocado': 1, 'black tea': 4, 'burgers': 4, 'champagne': 3, 'chicken': 4, 'chocolate': 7, 'chutney': 7, 'cookies': 7, 'cooking oil': 7, 'cottage cheese': 9, 'eggs': 9, 'energy bar': 9, 'energy drink': 3, 'extra dark chocolate': 8, 'french fries': 7, 'fresh tuna': 9, 'frozen smoothie': 7, 'frozen vegetables': 2, 'green grapes': 8, 'green tea': 8, 'honey': 9, 'light cream': 5, 'low fat yogurt': 4, 'meatballs': 9, 'milk': 5, 'mineral water': 2, 'oil': 9, 'olive oil': 8, 'pet food': 3, 'protein bar': 1, 'salad': 7, 'salmon': 3, 'shallot': 6, 'shrimp': 2, 'soup': 2, 'spaghetti': 6, 'spinach': 7, 'tomato juice': 8, 'tomatoes': 5, 'turkey': 8, 'vegetables mix': 3, 'whole wheat flour': 5, 'whole wheat pasta': 5, 'whole wheat rice': 4, 'yams': 7, 'banana': 5}\n"
          ]
        }
      ],
      "source": [
        "def add_item(item_name, item_price):\n",
        "    item_dict[item_name] = item_price\n",
        "    print(f\"{item_name} has been added to the store with a cost of ${item_price}\")\n",
        "\n",
        "add_item(\"banana\", 5)\n",
        "print(item_dict)"
      ]
    },
    {
      "cell_type": "markdown",
      "id": "67026eba",
      "metadata": {
        "id": "67026eba"
      },
      "source": [
        "●\tRemove an item: for example: if the customers at Walmart do not seem to be purchasing “banana,” and the store decides to discontinue this item. The function to should be able to remove the item “banana” from the Cost dictionary\n",
        "\n",
        "●\tCreate a function called remove_item( ) to automatically remove an item from the Cost dictionary given its name.\n"
      ]
    },
    {
      "cell_type": "code",
      "execution_count": 24,
      "id": "2e26ae37",
      "metadata": {
        "colab": {
          "base_uri": "https://localhost:8080/"
        },
        "id": "2e26ae37",
        "outputId": "4b077a10-17fd-4e76-c8b9-25dc1c8a3ad5"
      },
      "outputs": [
        {
          "output_type": "stream",
          "name": "stdout",
          "text": [
            "banana has been removed from the store\n",
            "{'almonds': 6, 'antioxidant juice': 9, 'avocado': 1, 'black tea': 4, 'burgers': 4, 'champagne': 3, 'chicken': 4, 'chocolate': 7, 'chutney': 7, 'cookies': 7, 'cooking oil': 7, 'cottage cheese': 9, 'eggs': 9, 'energy bar': 9, 'energy drink': 3, 'extra dark chocolate': 8, 'french fries': 7, 'fresh tuna': 9, 'frozen smoothie': 7, 'frozen vegetables': 2, 'green grapes': 8, 'green tea': 8, 'honey': 9, 'light cream': 5, 'low fat yogurt': 4, 'meatballs': 9, 'milk': 5, 'mineral water': 2, 'oil': 9, 'olive oil': 8, 'pet food': 3, 'protein bar': 1, 'salad': 7, 'salmon': 3, 'shallot': 6, 'shrimp': 2, 'soup': 2, 'spaghetti': 6, 'spinach': 7, 'tomato juice': 8, 'tomatoes': 5, 'turkey': 8, 'vegetables mix': 3, 'whole wheat flour': 5, 'whole wheat pasta': 5, 'whole wheat rice': 4, 'yams': 7}\n"
          ]
        }
      ],
      "source": [
        "def remove_item(item_name):\n",
        "    if item_name in item_dict:\n",
        "        item_dict.pop(item_name)\n",
        "        print(f\"{item_name} has been removed from the store\")\n",
        "    else:\n",
        "        print(f\"{item_name} is not available in the store\")\n",
        "\n",
        "remove_item(\"banana\")\n",
        "print(item_dict)"
      ]
    },
    {
      "cell_type": "markdown",
      "id": "39d0c4e0",
      "metadata": {
        "id": "39d0c4e0"
      },
      "source": [
        "Q2. Once a customer has completed shopping, they need to be billed for the total amount of all the items. This can be done automatically by swiping each item’s barcode on a checkout system. Your second task is to build the software underlying the checkout system, which finds the total cost of all the items in a customer’s cart, including taxes:"
      ]
    },
    {
      "cell_type": "markdown",
      "id": "ce6b6968",
      "metadata": {
        "id": "ce6b6968"
      },
      "source": [
        "● Write the code, to find the price of an item from the cost dictionary\n",
        "\n",
        "○ Find the price of salmon from the cost dictionary"
      ]
    },
    {
      "cell_type": "code",
      "execution_count": 28,
      "id": "e353870d",
      "metadata": {
        "colab": {
          "base_uri": "https://localhost:8080/"
        },
        "id": "e353870d",
        "outputId": "990d7d82-d6f5-4952-d80e-b6fe73492880"
      },
      "outputs": [
        {
          "output_type": "stream",
          "name": "stdout",
          "text": [
            "3\n"
          ]
        }
      ],
      "source": [
        "print(item_dict[\"salmon\"])"
      ]
    },
    {
      "cell_type": "markdown",
      "id": "ad60c963",
      "metadata": {
        "id": "ad60c963"
      },
      "source": [
        "●\tWrite a code that helps the administrator find any particular transaction in the sequence\n",
        "\n",
        "○\tTry finding the ninth transaction from the data"
      ]
    },
    {
      "cell_type": "code",
      "execution_count": 30,
      "id": "49d46ee7",
      "metadata": {
        "colab": {
          "base_uri": "https://localhost:8080/"
        },
        "id": "49d46ee7",
        "outputId": "3bcec745-cddc-425c-bdba-c0657276cbe9"
      },
      "outputs": [
        {
          "output_type": "stream",
          "name": "stdout",
          "text": [
            "['frozen vegetables', 'spaghetti', 'green tea']\n"
          ]
        }
      ],
      "source": [
        "print(transaction_data[8])"
      ]
    },
    {
      "cell_type": "markdown",
      "id": "37f21945",
      "metadata": {
        "id": "37f21945"
      },
      "source": [
        "● How many items are present in the ninth transaction?"
      ]
    },
    {
      "cell_type": "code",
      "execution_count": 32,
      "id": "9fb7af29",
      "metadata": {
        "colab": {
          "base_uri": "https://localhost:8080/"
        },
        "id": "9fb7af29",
        "outputId": "83138eb7-0c79-4710-df95-b799536f85ab"
      },
      "outputs": [
        {
          "output_type": "stream",
          "name": "stdout",
          "text": [
            "3\n"
          ]
        }
      ],
      "source": [
        "print(len(transaction_data[8]))"
      ]
    },
    {
      "cell_type": "markdown",
      "id": "fcf456e6",
      "metadata": {
        "id": "fcf456e6"
      },
      "source": [
        "● Find the total cost of the ninth transaction from the array of transactions."
      ]
    },
    {
      "cell_type": "code",
      "execution_count": 34,
      "id": "379b3a51",
      "metadata": {
        "colab": {
          "base_uri": "https://localhost:8080/"
        },
        "id": "379b3a51",
        "outputId": "9a404851-5df3-4f43-9a67-516da2bb999b"
      },
      "outputs": [
        {
          "output_type": "stream",
          "name": "stdout",
          "text": [
            "16\n"
          ]
        }
      ],
      "source": [
        "total_cost = 0\n",
        "for item in transaction_data[8]:\n",
        "    if item in item_dict:\n",
        "        total_cost += item_dict[item]\n",
        "print(total_cost)"
      ]
    },
    {
      "cell_type": "markdown",
      "id": "0f2c5158",
      "metadata": {
        "id": "0f2c5158"
      },
      "source": [
        "● As per government guidelines, a mandatory 5% tax is applied to the total cost of a transaction. Find the final price of the second transaction after applicable taxes have been implemented.\n",
        "\n",
        "● Create a function named find_total( ) to find the final price of any transaction after applicable taxes have been implemented."
      ]
    },
    {
      "cell_type": "code",
      "execution_count": 35,
      "id": "0bc8a0e8",
      "metadata": {
        "colab": {
          "base_uri": "https://localhost:8080/"
        },
        "id": "0bc8a0e8",
        "outputId": "9f372776-6438-408b-b988-a781a1710068"
      },
      "outputs": [
        {
          "output_type": "stream",
          "name": "stdout",
          "text": [
            "23.1\n"
          ]
        }
      ],
      "source": [
        "def find_total(transaction):\n",
        "    subtotal = 0\n",
        "    for item in transaction:\n",
        "        if item in item_dict:\n",
        "            subtotal += item_dict[item]\n",
        "    tax = subtotal * 0.05\n",
        "    total_price = subtotal + tax\n",
        "    return total_price\n",
        "\n",
        "second_transaction = transaction_data[1]\n",
        "final_price_second_transaction = find_total(second_transaction)\n",
        "print(final_price_second_transaction)"
      ]
    }
  ],
  "metadata": {
    "kernelspec": {
      "display_name": "Python 3 (ipykernel)",
      "language": "python",
      "name": "python3"
    },
    "language_info": {
      "codemirror_mode": {
        "name": "ipython",
        "version": 3
      },
      "file_extension": ".py",
      "mimetype": "text/x-python",
      "name": "python",
      "nbconvert_exporter": "python",
      "pygments_lexer": "ipython3",
      "version": "3.10.9"
    },
    "colab": {
      "provenance": []
    }
  },
  "nbformat": 4,
  "nbformat_minor": 5
}